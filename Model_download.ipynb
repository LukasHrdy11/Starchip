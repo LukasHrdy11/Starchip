{
 "cells": [
  {
   "cell_type": "markdown",
   "id": "7a6fbd8b",
   "metadata": {},
   "source": [
    "# Model download"
   ]
  },
  {
   "cell_type": "code",
   "execution_count": null,
   "id": "af89bcc2",
   "metadata": {},
   "outputs": [],
   "source": [
    "import torch\n",
    "from transformers import AutoModelForCausalLM, AutoTokenizer, BitsAndBytesConfig\n",
    "from huggingface_hub import snapshot_download\n",
    "import os\n",
    "from huggingface_hub import login\n",
    "\n",
    "# Načte token z proměnné prostředí\n",
    "token = os.getenv(\"HUGGINGFACE_TOKEN\")\n",
    "login(token)\n",
    "\n",
    "# --- Konfigurace ---\n",
    "BASE_MODEL_ID = \"mistralai/Mistral-7B-Instruct-v0.2\"\n",
    "CACHE_DIR = os.path.expanduser(\"~/.cache/huggingface/hub\") # Standardní cesta k Hugging Face cache\n",
    "OUTPUT_FILE = \"model_path.txt\"\n",
    "\n",
    "# --- Stažení a zjištění cesty ---\n",
    "\n",
    "print(f\"Stahuji (nebo ověřuji existenci) modelu: '{BASE_MODEL_ID}'\")\n",
    "print(\"Tento proces může trvat delší dobu...\")\n",
    "\n",
    "# Použijeme snapshot_download, což je nejlepší způsob, jak jen stáhnout soubory\n",
    "# a získat k nim cestu, aniž bychom hned načítali celý model do paměti.\n",
    "model_snapshot_path = snapshot_download(repo_id=BASE_MODEL_ID)\n",
    "\n",
    "print(\"\\n Model je stažen a nachází se v cache.\")\n",
    "print(f\"Absolutní cesta k modelu: {model_snapshot_path}\")\n",
    "\n",
    "# --- Uložení cesty do souboru ---\n",
    "\n",
    "try:\n",
    "    with open(OUTPUT_FILE, \"w\") as f:\n",
    "        f.write(model_snapshot_path)\n",
    "    print(f\"\\n Cesta byla úspěšně uložena do souboru: '{OUTPUT_FILE}'\")\n",
    "except Exception as e:\n",
    "    print(f\"\\n Chyba při ukládání cesty do souboru: {e}\")"
   ]
  }
 ],
 "metadata": {
  "kernelspec": {
   "display_name": "mistral-project",
   "language": "python",
   "name": "python3"
  },
  "language_info": {
   "codemirror_mode": {
    "name": "ipython",
    "version": 3
   },
   "file_extension": ".py",
   "mimetype": "text/x-python",
   "name": "python",
   "nbconvert_exporter": "python",
   "pygments_lexer": "ipython3",
   "version": "3.10.18"
  }
 },
 "nbformat": 4,
 "nbformat_minor": 5
}
