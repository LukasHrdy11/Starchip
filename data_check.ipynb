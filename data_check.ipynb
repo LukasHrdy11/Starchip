{
 "cells": [
  {
   "cell_type": "markdown",
   "metadata": {},
   "source": [
    "# Analýza datasetu `BoltzmannEntropy/QuantumLLMInstruct`\n",
    "\n",
    "Tento notebook načte dataset z Hugging Face Hubu, převede ho na Pandas DataFrame a provede základní analýzu dat s důrazem na přehledné zobrazení v Jupyter prostředí."
   ]
  },
  {
   "cell_type": "code",
   "execution_count": 3,
   "metadata": {},
   "outputs": [],
   "source": [
    "import pandas as pd\n",
    "from datasets import load_dataset\n",
    "from IPython.display import display, Markdown\n",
    "\n",
    "# --- Konfigurace ---\n",
    "# Název datasetu na Hugging Face Hubu\n",
    "DATASET_NAME = \"BoltzmannEntropy/QuantumLLMInstruct\"\n",
    "\n",
    "# Nastavení Pandas pro lepší zobrazení v notebooku\n",
    "pd.set_option('display.max_colwidth', 150) # Zobrazí delší text v buňkách\n",
    "pd.set_option('display.max_rows', 100)     # Umožní zobrazit více řádků\n",
    "pd.set_option('display.width', 1000)      # Rozšíří šířku zobrazení"
   ]
  },
  {
   "cell_type": "markdown",
   "metadata": {},
   "source": [
    "## 1. Načtení a příprava datasetu\n",
    "\n",
    "Načteme trénovací část datasetu a převedeme ji na Pandas DataFrame pro snadnou manipulaci."
   ]
  },
  {
   "cell_type": "code",
   "execution_count": 4,
   "metadata": {},
   "outputs": [
    {
     "name": "stdout",
     "output_type": "stream",
     "text": [
      "Načítám dataset 'BoltzmannEntropy/QuantumLLMInstruct'...\n",
      "✅ Dataset úspěšně načten a převeden na DataFrame.\n",
      "   Počet záznamů: 5150\n"
     ]
    }
   ],
   "source": [
    "print(f\"Načítám dataset '{DATASET_NAME}'...\")\n",
    "try:\n",
    "    # Načteme pouze trénovací split\n",
    "    dataset = load_dataset(DATASET_NAME, split=\"train\")\n",
    "    # Převedeme dataset na Pandas DataFrame\n",
    "    df = dataset.to_pandas()\n",
    "    print(\"✅ Dataset úspěšně načten a převeden na DataFrame.\")\n",
    "    print(f\"   Počet záznamů: {len(df)}\")\n",
    "except Exception as e:\n",
    "    print(f\"❌ Nepodařilo se načíst dataset. Chyba: {e}\")"
   ]
  },
  {
   "cell_type": "markdown",
   "metadata": {},
   "source": [
    "## 2. Základní přehled (prvních 5 řádků)\n",
    "\n",
    "Podívejme se na strukturu a ukázku dat."
   ]
  },
  {
   "cell_type": "code",
   "execution_count": null,
   "metadata": {},
   "outputs": [
    {
     "data": {
      "text/html": [
       "<div>\n",
       "<style scoped>\n",
       "    .dataframe tbody tr th:only-of-type {\n",
       "        vertical-align: middle;\n",
       "    }\n",
       "\n",
       "    .dataframe tbody tr th {\n",
       "        vertical-align: top;\n",
       "    }\n",
       "\n",
       "    .dataframe thead th {\n",
       "        text-align: right;\n",
       "    }\n",
       "</style>\n",
       "<table border=\"1\" class=\"dataframe\">\n",
       "  <thead>\n",
       "    <tr style=\"text-align: right;\">\n",
       "      <th></th>\n",
       "      <th>uuid</th>\n",
       "      <th>timestamp</th>\n",
       "      <th>problem</th>\n",
       "      <th>sub_domain</th>\n",
       "      <th>main_domain</th>\n",
       "      <th>model_name</th>\n",
       "      <th>solution</th>\n",
       "      <th>solution_model_name</th>\n",
       "    </tr>\n",
       "  </thead>\n",
       "  <tbody>\n",
       "    <tr>\n",
       "      <th>0</th>\n",
       "      <td>fb82fc81-6dc2-47ed-9312-ff93fe73a92f</td>\n",
       "      <td>2024-12-25 21:44:13.453089</td>\n",
       "      <td>Consider a two-qubit system initially prepared in the state \\( |\\psi_0\\rangle = \\frac{|00\\rangle + |11\\rangle}{\\sqrt{2}} \\). The Hamiltonian of th...</td>\n",
       "      <td>QUANTUM THERMODYNAMICS</td>\n",
       "      <td>Quantum Thermodynamics</td>\n",
       "      <td>Qwen2.5-Coder-3B-Instruct</td>\n",
       "      <td>To solve this problem, we need to follow these steps:\\n\\n1. **Express the initial state in matrix form:**\\n   The initial state \\( |\\psi_0\\rangle ...</td>\n",
       "      <td>Qwen2.5-Coder-32B-Instruct</td>\n",
       "    </tr>\n",
       "    <tr>\n",
       "      <th>1</th>\n",
       "      <td>37c6341e-667a-4d06-bcd8-304a17f77ca8</td>\n",
       "      <td>2024-12-25 21:44:27.299583</td>\n",
       "      <td>Calculate the ground state energy of the Heisenberg spin chain with the Hamiltonian:\\n\\[\\nH = J \\sum_{i=1}^{N-1} (\\sigma_i^z \\sigma_{i+1}^z + \\sig...</td>\n",
       "      <td>HEISENBERG SPIN CHAIN</td>\n",
       "      <td>Gibbs State Preparation</td>\n",
       "      <td>Qwen2.5-Coder-3B-Instruct</td>\n",
       "      <td>To calculate the ground state energy of the Heisenberg spin chain with the given Hamiltonian for \\( N = 4 \\) spins and \\( J = 1 \\), we need to fol...</td>\n",
       "      <td>Qwen2.5-Coder-32B-Instruct</td>\n",
       "    </tr>\n",
       "    <tr>\n",
       "      <th>2</th>\n",
       "      <td>8347ea30-21ab-4a20-9587-984f5d1fe9b9</td>\n",
       "      <td>2024-12-25 21:44:36.251547</td>\n",
       "      <td>Design a divide-and-conquer algorithm for solving the Traveling Salesman Problem (TSP) on a graph with \\( n \\) cities using Quantum Approximate Op...</td>\n",
       "      <td>QUANTUM APPROXIMATE OPTIMIZATION ALGORITHM</td>\n",
       "      <td>Large-scale QAOA via Divide-and-Conquer</td>\n",
       "      <td>Qwen2.5-Coder-3B-Instruct</td>\n",
       "      <td>To design a divide-and-conquer algorithm for solving the Traveling Salesman Problem (TSP) on a graph using the Quantum Approximate Optimization Al...</td>\n",
       "      <td>Qwen2.5-Coder-32B-Instruct</td>\n",
       "    </tr>\n",
       "    <tr>\n",
       "      <th>3</th>\n",
       "      <td>a83f873f-fd48-47d1-b787-aa8804900425</td>\n",
       "      <td>2024-12-25 21:44:49.299625</td>\n",
       "      <td>Prepare the Gibbs state for the Hamiltonian:\\n\\[\\nH = \\sigma^z_1 + \\sigma^z_2 + \\sigma^x_1 + \\sigma^x_2,\\n\\]\\nat a temperature \\( T = 0.75 \\). Use...</td>\n",
       "      <td>GIBBS STATE PREPARATION</td>\n",
       "      <td>Gibbs State Preparation</td>\n",
       "      <td>Qwen2.5-Coder-3B-Instruct</td>\n",
       "      <td>To solve this problem, we need to calculate the first-order correction to the energy of the state \\( |\\psi\\rangle = e^{-\\beta H}|00\\rangle \\) for ...</td>\n",
       "      <td>Qwen2.5-Coder-32B-Instruct</td>\n",
       "    </tr>\n",
       "    <tr>\n",
       "      <th>4</th>\n",
       "      <td>850192b8-8db0-46c4-8763-084bc1d03a06</td>\n",
       "      <td>2024-12-25 21:45:00.601605</td>\n",
       "      <td>Given a quantum system described by a density matrix \\( \\rho \\), estimate the purity \\( \\text{Tr}(\\rho^2) \\) using classical shadow techniques. De...</td>\n",
       "      <td>QUANTUM STATE PROPERTY ESTIMATION</td>\n",
       "      <td>Estimation of Quantum State Properties Based on the Classical Shadow</td>\n",
       "      <td>Qwen2.5-Coder-3B-Instruct</td>\n",
       "      <td>To estimate the purity \\( \\text{Tr}(\\rho^2) \\) of a quantum system using classical shadow techniques, we can follow these steps:\\n\\n### Step 1: Un...</td>\n",
       "      <td>Qwen2.5-Coder-32B-Instruct</td>\n",
       "    </tr>\n",
       "  </tbody>\n",
       "</table>\n",
       "</div>"
      ],
      "text/plain": [
       "                                   uuid                   timestamp                                                                                                                                                problem                                  sub_domain                                                           main_domain                 model_name                                                                                                                                               solution         solution_model_name\n",
       "0  fb82fc81-6dc2-47ed-9312-ff93fe73a92f  2024-12-25 21:44:13.453089  Consider a two-qubit system initially prepared in the state \\( |\\psi_0\\rangle = \\frac{|00\\rangle + |11\\rangle}{\\sqrt{2}} \\). The Hamiltonian of th...                      QUANTUM THERMODYNAMICS                                                Quantum Thermodynamics  Qwen2.5-Coder-3B-Instruct  To solve this problem, we need to follow these steps:\\n\\n1. **Express the initial state in matrix form:**\\n   The initial state \\( |\\psi_0\\rangle ...  Qwen2.5-Coder-32B-Instruct\n",
       "1  37c6341e-667a-4d06-bcd8-304a17f77ca8  2024-12-25 21:44:27.299583  Calculate the ground state energy of the Heisenberg spin chain with the Hamiltonian:\\n\\[\\nH = J \\sum_{i=1}^{N-1} (\\sigma_i^z \\sigma_{i+1}^z + \\sig...                       HEISENBERG SPIN CHAIN                                               Gibbs State Preparation  Qwen2.5-Coder-3B-Instruct  To calculate the ground state energy of the Heisenberg spin chain with the given Hamiltonian for \\( N = 4 \\) spins and \\( J = 1 \\), we need to fol...  Qwen2.5-Coder-32B-Instruct\n",
       "2  8347ea30-21ab-4a20-9587-984f5d1fe9b9  2024-12-25 21:44:36.251547  Design a divide-and-conquer algorithm for solving the Traveling Salesman Problem (TSP) on a graph with \\( n \\) cities using Quantum Approximate Op...  QUANTUM APPROXIMATE OPTIMIZATION ALGORITHM                               Large-scale QAOA via Divide-and-Conquer  Qwen2.5-Coder-3B-Instruct  To design a divide-and-conquer algorithm for solving the Traveling Salesman Problem (TSP) on a graph using the Quantum Approximate Optimization Al...  Qwen2.5-Coder-32B-Instruct\n",
       "3  a83f873f-fd48-47d1-b787-aa8804900425  2024-12-25 21:44:49.299625  Prepare the Gibbs state for the Hamiltonian:\\n\\[\\nH = \\sigma^z_1 + \\sigma^z_2 + \\sigma^x_1 + \\sigma^x_2,\\n\\]\\nat a temperature \\( T = 0.75 \\). Use...                     GIBBS STATE PREPARATION                                               Gibbs State Preparation  Qwen2.5-Coder-3B-Instruct  To solve this problem, we need to calculate the first-order correction to the energy of the state \\( |\\psi\\rangle = e^{-\\beta H}|00\\rangle \\) for ...  Qwen2.5-Coder-32B-Instruct\n",
       "4  850192b8-8db0-46c4-8763-084bc1d03a06  2024-12-25 21:45:00.601605  Given a quantum system described by a density matrix \\( \\rho \\), estimate the purity \\( \\text{Tr}(\\rho^2) \\) using classical shadow techniques. De...           QUANTUM STATE PROPERTY ESTIMATION  Estimation of Quantum State Properties Based on the Classical Shadow  Qwen2.5-Coder-3B-Instruct  To estimate the purity \\( \\text{Tr}(\\rho^2) \\) of a quantum system using classical shadow techniques, we can follow these steps:\\n\\n### Step 1: Un...  Qwen2.5-Coder-32B-Instruct"
      ]
     },
     "execution_count": 6,
     "metadata": {},
     "output_type": "execute_result"
    }
   ],
   "source": [
    "df.head()"
   ]
  },
  {
   "cell_type": "code",
   "execution_count": 7,
   "metadata": {},
   "outputs": [
    {
     "data": {
      "text/html": [
       "<div>\n",
       "<style scoped>\n",
       "    .dataframe tbody tr th:only-of-type {\n",
       "        vertical-align: middle;\n",
       "    }\n",
       "\n",
       "    .dataframe tbody tr th {\n",
       "        vertical-align: top;\n",
       "    }\n",
       "\n",
       "    .dataframe thead th {\n",
       "        text-align: right;\n",
       "    }\n",
       "</style>\n",
       "<table border=\"1\" class=\"dataframe\">\n",
       "  <thead>\n",
       "    <tr style=\"text-align: right;\">\n",
       "      <th></th>\n",
       "      <th>Datový typ</th>\n",
       "      <th>Počet ne-nulových hodnot</th>\n",
       "      <th>Počet unikátních hodnot</th>\n",
       "      <th>Počet chybějících (NaN)</th>\n",
       "    </tr>\n",
       "  </thead>\n",
       "  <tbody>\n",
       "    <tr>\n",
       "      <th>uuid</th>\n",
       "      <td>object</td>\n",
       "      <td>5150</td>\n",
       "      <td>5150</td>\n",
       "      <td>0</td>\n",
       "    </tr>\n",
       "    <tr>\n",
       "      <th>timestamp</th>\n",
       "      <td>object</td>\n",
       "      <td>5150</td>\n",
       "      <td>5150</td>\n",
       "      <td>0</td>\n",
       "    </tr>\n",
       "    <tr>\n",
       "      <th>problem</th>\n",
       "      <td>object</td>\n",
       "      <td>5150</td>\n",
       "      <td>5006</td>\n",
       "      <td>0</td>\n",
       "    </tr>\n",
       "    <tr>\n",
       "      <th>sub_domain</th>\n",
       "      <td>object</td>\n",
       "      <td>5150</td>\n",
       "      <td>696</td>\n",
       "      <td>0</td>\n",
       "    </tr>\n",
       "    <tr>\n",
       "      <th>main_domain</th>\n",
       "      <td>object</td>\n",
       "      <td>5150</td>\n",
       "      <td>90</td>\n",
       "      <td>0</td>\n",
       "    </tr>\n",
       "    <tr>\n",
       "      <th>model_name</th>\n",
       "      <td>object</td>\n",
       "      <td>5150</td>\n",
       "      <td>2</td>\n",
       "      <td>0</td>\n",
       "    </tr>\n",
       "    <tr>\n",
       "      <th>solution</th>\n",
       "      <td>object</td>\n",
       "      <td>46</td>\n",
       "      <td>46</td>\n",
       "      <td>5104</td>\n",
       "    </tr>\n",
       "    <tr>\n",
       "      <th>solution_model_name</th>\n",
       "      <td>object</td>\n",
       "      <td>46</td>\n",
       "      <td>1</td>\n",
       "      <td>5104</td>\n",
       "    </tr>\n",
       "  </tbody>\n",
       "</table>\n",
       "</div>"
      ],
      "text/plain": [
       "                    Datový typ  Počet ne-nulových hodnot  Počet unikátních hodnot  Počet chybějících (NaN)\n",
       "uuid                    object                      5150                     5150                        0\n",
       "timestamp               object                      5150                     5150                        0\n",
       "problem                 object                      5150                     5006                        0\n",
       "sub_domain              object                      5150                      696                        0\n",
       "main_domain             object                      5150                       90                        0\n",
       "model_name              object                      5150                        2                        0\n",
       "solution                object                        46                       46                     5104\n",
       "solution_model_name     object                        46                        1                     5104"
      ]
     },
     "metadata": {},
     "output_type": "display_data"
    }
   ],
   "source": [
    "# Vytvoříme si vlastní, hezčí přehled\n",
    "info_df = pd.DataFrame({\n",
    "    'Datový typ': df.dtypes,\n",
    "    'Počet ne-nulových hodnot': df.count(),\n",
    "    'Počet unikátních hodnot': df.nunique()\n",
    "})\n",
    "info_df['Počet chybějících (NaN)'] = len(df) - info_df['Počet ne-nulových hodnot']\n",
    "\n",
    "display(info_df)"
   ]
  }
 ],
 "metadata": {
  "kernelspec": {
   "display_name": "mistral-lora",
   "language": "python",
   "name": "python3"
  },
  "language_info": {
   "codemirror_mode": {
    "name": "ipython",
    "version": 3
   },
   "file_extension": ".py",
   "mimetype": "text/x-python",
   "name": "python",
   "nbconvert_exporter": "python",
   "pygments_lexer": "ipython3",
   "version": "3.10.16"
  }
 },
 "nbformat": 4,
 "nbformat_minor": 2
}
