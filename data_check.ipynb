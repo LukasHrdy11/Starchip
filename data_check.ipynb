{
 "cells": [
  {
   "cell_type": "markdown",
   "metadata": {},
   "source": [
    "# Analýza datasetu `BoltzmannEntropy/QuantumLLMInstruct`\n",
    "\n",
    "Tento notebook načte dataset z Hugging Face Hubu, převede ho na Pandas DataFrame a provede základní analýzu dat s důrazem na přehledné zobrazení v Jupyter prostředí."
   ]
  },
  {
   "cell_type": "code",
   "execution_count": 1,
   "metadata": {},
   "outputs": [
    {
     "name": "stderr",
     "output_type": "stream",
     "text": [
      "/home/luk-hrd/miniconda3/envs/mistral-lora/lib/python3.10/site-packages/tqdm/auto.py:21: TqdmWarning: IProgress not found. Please update jupyter and ipywidgets. See https://ipywidgets.readthedocs.io/en/stable/user_install.html\n",
      "  from .autonotebook import tqdm as notebook_tqdm\n"
     ]
    }
   ],
   "source": [
    "import pandas as pd\n",
    "from datasets import load_dataset\n",
    "from IPython.display import display, Markdown\n",
    "\n",
    "# --- Konfigurace ---\n",
    "# Název datasetu na Hugging Face Hubu\n",
    "DATASET_NAME = \"0xZee/dataset-CoT-Quantum-Mechanics-1224\"\n",
    "\n",
    "# Nastavení Pandas pro lepší zobrazení v notebooku\n",
    "pd.set_option('display.max_colwidth', 150) # Zobrazí delší text v buňkách\n",
    "pd.set_option('display.max_rows', 100)     # Umožní zobrazit více řádků\n",
    "pd.set_option('display.width', 1000)      # Rozšíří šířku zobrazení"
   ]
  },
  {
   "cell_type": "markdown",
   "metadata": {},
   "source": [
    "## 1. Načtení a příprava datasetu\n",
    "\n",
    "Načteme trénovací část datasetu a převedeme ji na Pandas DataFrame pro snadnou manipulaci."
   ]
  },
  {
   "cell_type": "code",
   "execution_count": 2,
   "metadata": {},
   "outputs": [
    {
     "name": "stdout",
     "output_type": "stream",
     "text": [
      "Načítám dataset '0xZee/dataset-CoT-Quantum-Mechanics-1224'...\n"
     ]
    },
    {
     "name": "stderr",
     "output_type": "stream",
     "text": [
      "Generating train split: 100%|██████████| 1224/1224 [00:00<00:00, 13014.03 examples/s]"
     ]
    },
    {
     "name": "stdout",
     "output_type": "stream",
     "text": [
      "✅ Dataset úspěšně načten a převeden na DataFrame.\n",
      "   Počet záznamů: 1224\n"
     ]
    },
    {
     "name": "stderr",
     "output_type": "stream",
     "text": [
      "\n"
     ]
    }
   ],
   "source": [
    "print(f\"Načítám dataset '{DATASET_NAME}'...\")\n",
    "try:\n",
    "    # Načteme pouze trénovací split\n",
    "    dataset = load_dataset(DATASET_NAME, split=\"train\")\n",
    "    # Převedeme dataset na Pandas DataFrame\n",
    "    df = dataset.to_pandas()\n",
    "    print(\"✅ Dataset úspěšně načten a převeden na DataFrame.\")\n",
    "    print(f\"   Počet záznamů: {len(df)}\")\n",
    "except Exception as e:\n",
    "    print(f\"❌ Nepodařilo se načíst dataset. Chyba: {e}\")"
   ]
  },
  {
   "cell_type": "markdown",
   "metadata": {},
   "source": [
    "## 2. Základní přehled (prvních 5 řádků)\n",
    "\n",
    "Podívejme se na strukturu a ukázku dat."
   ]
  },
  {
   "cell_type": "code",
   "execution_count": 3,
   "metadata": {},
   "outputs": [
    {
     "data": {
      "text/html": [
       "<div>\n",
       "<style scoped>\n",
       "    .dataframe tbody tr th:only-of-type {\n",
       "        vertical-align: middle;\n",
       "    }\n",
       "\n",
       "    .dataframe tbody tr th {\n",
       "        vertical-align: top;\n",
       "    }\n",
       "\n",
       "    .dataframe thead th {\n",
       "        text-align: right;\n",
       "    }\n",
       "</style>\n",
       "<table border=\"1\" class=\"dataframe\">\n",
       "  <thead>\n",
       "    <tr style=\"text-align: right;\">\n",
       "      <th></th>\n",
       "      <th>question</th>\n",
       "      <th>response</th>\n",
       "      <th>CoT</th>\n",
       "    </tr>\n",
       "  </thead>\n",
       "  <tbody>\n",
       "    <tr>\n",
       "      <th>0</th>\n",
       "      <td>Using the shell model, find the spin–isospin dependence of the wavefunctions for the tritium (3H) and helium (3He) nuclear ground-states.</td>\n",
       "      <td>In the nuclei considered, the three nucleons are in the 1s-shell. Such a configuration could be considered as one hole in the 1s-state, which defi...</td>\n",
       "      <td>So I need to find the spin-isospin dependence of the wavefunctions for tritium (3H) and helium-3 (3He) nuclear ground-states using the shell model...</td>\n",
       "    </tr>\n",
       "    <tr>\n",
       "      <th>1</th>\n",
       "      <td>Let us introduce the operators\\n\\n\\[\\n\\hat{Q} = \\hat{A}^+\\hat{f}, \\quad \\hat{Q}^+ = \\hat{A}\\hat{f}^+, \\quad \\hat{H} = \\hat{Q}\\hat{Q}^+ + \\hat{Q}^+...</td>\n",
       "      <td>1) It is easy to prove that\\n\\n\\{ \\hat{Q}, \\hat{Q}^+ \\} = \\hat{H}, \\quad [\\hat{Q}, \\hat{H}] = [\\hat{Q}^+, \\hat{H}] = 0, \\quad \\hat{Q}^2 = (\\hat{Q}...</td>\n",
       "      <td>So I'm trying to understand this problem about supersymmetry in quantum mechanics. We have these operators: Q, Q dagger, and H, defined in terms o...</td>\n",
       "    </tr>\n",
       "    <tr>\n",
       "      <th>2</th>\n",
       "      <td>Express the photon scattering cross-section in the small-frequency limit, \\(\\hbar\\omega \\rightarrow 0\\), from an atom in a stationary state with z...</td>\n",
       "      <td>We are interested in the transition probability between the states\\n\\n\\[\\n\\psi_{i,f} = \\psi_0 |1k_i,\\sigma_i,f,0,\\ldots\\rangle, \\quad E_{i,f} = E_...</td>\n",
       "      <td>So I have this problem here about expressing the photon scattering cross-section in the small-frequency limit, where \\(\\hbar\\omega\\) approaches ze...</td>\n",
       "    </tr>\n",
       "    <tr>\n",
       "      <th>3</th>\n",
       "      <td>Prove the optical theorem for elastic scattering, that is \\(\\sigma_T \\equiv \\int \\mathrm{d}\\Omega \\frac{\\mathrm{d}\\sigma}{\\mathrm{d}\\Omega} = \\fra...</td>\n",
       "      <td>The partial wave expansion of an elastic scattering amplitude is\\n\\n\\[f_k(\\theta) = \\frac{1}{k} \\sum_{\\ell = 0}^{\\infty} (2\\ell + 1) e^{i\\delta_\\e...</td>\n",
       "      <td>To prove the optical theorem for elastic scattering, which states that\\n\\n\\[\\n\\sigma_T \\equiv \\int \\mathrm{d}\\Omega \\frac{\\mathrm{d}\\sigma}{\\mathr...</td>\n",
       "    </tr>\n",
       "    <tr>\n",
       "      <th>4</th>\n",
       "      <td>The Stark effect in atoms (shift of energy levels by a uniform electric field) is usually observed to be quadratic in the field strength. Explain ...</td>\n",
       "      <td>To within an uninteresting overall constant, the wave functions are\\n\\n\\[ \\psi_{100} = 4\\sqrt{2a_0^3} e^{-r/a_0}, \\]\\n\\n\\[ \\psi_{200} = (2a_0 - r)...</td>\n",
       "      <td>So, the Stark effect is this phenomenon where energy levels of atoms shift when you apply an external electric field. Normally, this shift is quad...</td>\n",
       "    </tr>\n",
       "  </tbody>\n",
       "</table>\n",
       "</div>"
      ],
      "text/plain": [
       "                                                                                                                                                question                                                                                                                                               response                                                                                                                                                    CoT\n",
       "0              Using the shell model, find the spin–isospin dependence of the wavefunctions for the tritium (3H) and helium (3He) nuclear ground-states.  In the nuclei considered, the three nucleons are in the 1s-shell. Such a configuration could be considered as one hole in the 1s-state, which defi...  So I need to find the spin-isospin dependence of the wavefunctions for tritium (3H) and helium-3 (3He) nuclear ground-states using the shell model...\n",
       "1  Let us introduce the operators\\n\\n\\[\\n\\hat{Q} = \\hat{A}^+\\hat{f}, \\quad \\hat{Q}^+ = \\hat{A}\\hat{f}^+, \\quad \\hat{H} = \\hat{Q}\\hat{Q}^+ + \\hat{Q}^+...  1) It is easy to prove that\\n\\n\\{ \\hat{Q}, \\hat{Q}^+ \\} = \\hat{H}, \\quad [\\hat{Q}, \\hat{H}] = [\\hat{Q}^+, \\hat{H}] = 0, \\quad \\hat{Q}^2 = (\\hat{Q}...  So I'm trying to understand this problem about supersymmetry in quantum mechanics. We have these operators: Q, Q dagger, and H, defined in terms o...\n",
       "2  Express the photon scattering cross-section in the small-frequency limit, \\(\\hbar\\omega \\rightarrow 0\\), from an atom in a stationary state with z...  We are interested in the transition probability between the states\\n\\n\\[\\n\\psi_{i,f} = \\psi_0 |1k_i,\\sigma_i,f,0,\\ldots\\rangle, \\quad E_{i,f} = E_...  So I have this problem here about expressing the photon scattering cross-section in the small-frequency limit, where \\(\\hbar\\omega\\) approaches ze...\n",
       "3  Prove the optical theorem for elastic scattering, that is \\(\\sigma_T \\equiv \\int \\mathrm{d}\\Omega \\frac{\\mathrm{d}\\sigma}{\\mathrm{d}\\Omega} = \\fra...  The partial wave expansion of an elastic scattering amplitude is\\n\\n\\[f_k(\\theta) = \\frac{1}{k} \\sum_{\\ell = 0}^{\\infty} (2\\ell + 1) e^{i\\delta_\\e...  To prove the optical theorem for elastic scattering, which states that\\n\\n\\[\\n\\sigma_T \\equiv \\int \\mathrm{d}\\Omega \\frac{\\mathrm{d}\\sigma}{\\mathr...\n",
       "4  The Stark effect in atoms (shift of energy levels by a uniform electric field) is usually observed to be quadratic in the field strength. Explain ...  To within an uninteresting overall constant, the wave functions are\\n\\n\\[ \\psi_{100} = 4\\sqrt{2a_0^3} e^{-r/a_0}, \\]\\n\\n\\[ \\psi_{200} = (2a_0 - r)...  So, the Stark effect is this phenomenon where energy levels of atoms shift when you apply an external electric field. Normally, this shift is quad..."
      ]
     },
     "execution_count": 3,
     "metadata": {},
     "output_type": "execute_result"
    }
   ],
   "source": [
    "df.head()"
   ]
  },
  {
   "cell_type": "code",
   "execution_count": 4,
   "metadata": {},
   "outputs": [
    {
     "data": {
      "text/html": [
       "<div>\n",
       "<style scoped>\n",
       "    .dataframe tbody tr th:only-of-type {\n",
       "        vertical-align: middle;\n",
       "    }\n",
       "\n",
       "    .dataframe tbody tr th {\n",
       "        vertical-align: top;\n",
       "    }\n",
       "\n",
       "    .dataframe thead th {\n",
       "        text-align: right;\n",
       "    }\n",
       "</style>\n",
       "<table border=\"1\" class=\"dataframe\">\n",
       "  <thead>\n",
       "    <tr style=\"text-align: right;\">\n",
       "      <th></th>\n",
       "      <th>Datový typ</th>\n",
       "      <th>Počet ne-nulových hodnot</th>\n",
       "      <th>Počet unikátních hodnot</th>\n",
       "      <th>Počet chybějících (NaN)</th>\n",
       "    </tr>\n",
       "  </thead>\n",
       "  <tbody>\n",
       "    <tr>\n",
       "      <th>question</th>\n",
       "      <td>object</td>\n",
       "      <td>1224</td>\n",
       "      <td>1209</td>\n",
       "      <td>0</td>\n",
       "    </tr>\n",
       "    <tr>\n",
       "      <th>response</th>\n",
       "      <td>object</td>\n",
       "      <td>1224</td>\n",
       "      <td>1213</td>\n",
       "      <td>0</td>\n",
       "    </tr>\n",
       "    <tr>\n",
       "      <th>CoT</th>\n",
       "      <td>object</td>\n",
       "      <td>1224</td>\n",
       "      <td>1209</td>\n",
       "      <td>0</td>\n",
       "    </tr>\n",
       "  </tbody>\n",
       "</table>\n",
       "</div>"
      ],
      "text/plain": [
       "         Datový typ  Počet ne-nulových hodnot  Počet unikátních hodnot  Počet chybějících (NaN)\n",
       "question     object                      1224                     1209                        0\n",
       "response     object                      1224                     1213                        0\n",
       "CoT          object                      1224                     1209                        0"
      ]
     },
     "metadata": {},
     "output_type": "display_data"
    }
   ],
   "source": [
    "# Vytvoříme si vlastní, hezčí přehled\n",
    "info_df = pd.DataFrame({\n",
    "    'Datový typ': df.dtypes,\n",
    "    'Počet ne-nulových hodnot': df.count(),\n",
    "    'Počet unikátních hodnot': df.nunique()\n",
    "})\n",
    "info_df['Počet chybějících (NaN)'] = len(df) - info_df['Počet ne-nulových hodnot']\n",
    "\n",
    "display(info_df)"
   ]
  }
 ],
 "metadata": {
  "kernelspec": {
   "display_name": "mistral-lora",
   "language": "python",
   "name": "python3"
  },
  "language_info": {
   "codemirror_mode": {
    "name": "ipython",
    "version": 3
   },
   "file_extension": ".py",
   "mimetype": "text/x-python",
   "name": "python",
   "nbconvert_exporter": "python",
   "pygments_lexer": "ipython3",
   "version": "3.10.16"
  }
 },
 "nbformat": 4,
 "nbformat_minor": 2
}
